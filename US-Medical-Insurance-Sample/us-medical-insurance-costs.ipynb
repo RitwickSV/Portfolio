{
 "cells": [
  {
   "cell_type": "markdown",
   "metadata": {},
   "source": [
    "# U.S. Medical Insurance Costs"
   ]
  },
  {
   "cell_type": "markdown",
   "metadata": {},
   "source": [
    "This project is our attempt at learning about all the factors that decide the insurance costs of an individual in the United States.\n",
    "\n",
    "The factors that we base our analysis upon are the age, gender, BMI, number of children, smoking preferences, region and the charges of an individual.\n",
    "\n",
    "We try to analyse the data at hand by understanding the insurance costs based on a particular individual portfolio by factoring in each of the individual characters in the portfolio."
   ]
  },
  {
   "cell_type": "code",
   "execution_count": 61,
   "metadata": {},
   "outputs": [],
   "source": [
    "# All the modules we require for the project\n",
    "\n",
    "import csv\n",
    "import pprint\n",
    "from statistics import mean\n",
    "age_lst, sex_lst, bmi_lst, child_lst, smoke_lst, region_lst, charges_lst = [],[],[],[],[],[],[]\n",
    "data_dict = {}"
   ]
  },
  {
   "cell_type": "code",
   "execution_count": 62,
   "metadata": {},
   "outputs": [
    {
     "name": "stdout",
     "output_type": "stream",
     "text": [
      "Wall time: 0 ns\n"
     ]
    }
   ],
   "source": [
    "%%time\n",
    "# Function to read in data from the csv using DictReader\n",
    "\n",
    "def read_csv_fx(): #inputs data into 6 lists and a data dictionary    \n",
    "    with open('insurance.csv',newline='') as file_reader:\n",
    "        file_data = csv.DictReader(file_reader, delimiter=',')\n",
    "        for row in file_data:\n",
    "            age_lst.append(int(row['age']))\n",
    "            sex_lst.append(row['sex'])\n",
    "            bmi_lst.append(float(row['bmi']))\n",
    "            child_lst.append(row['children'])\n",
    "            smoke_lst.append(row['smoker'])\n",
    "            region_lst.append(row['region'])\n",
    "            charges_lst.append(float(row['charges']))\n",
    "    \n",
    "    data_dict.update({\"age\":age_lst, \"sex\":sex_lst, \"bmi\":bmi_lst, \"children\":child_lst, \"smoker\":smoke_lst, \"region\":region_lst, \"charges\":charges_lst})\n",
    "            "
   ]
  },
  {
   "cell_type": "code",
   "execution_count": 63,
   "metadata": {},
   "outputs": [
    {
     "name": "stdout",
     "output_type": "stream",
     "text": [
      "Wall time: 16 ms\n"
     ]
    }
   ],
   "source": [
    "%%time\n",
    "read_csv_fx()"
   ]
  },
  {
   "cell_type": "code",
   "execution_count": 64,
   "metadata": {},
   "outputs": [
    {
     "name": "stdout",
     "output_type": "stream",
     "text": [
      "Wall time: 0 ns\n"
     ]
    }
   ],
   "source": [
    "%%time\n",
    "# Function to find the average age of the people paying for insurances\n",
    "\n",
    "def avg_age_fx(age_lst):\n",
    "    return mean(age_lst)"
   ]
  },
  {
   "cell_type": "code",
   "execution_count": 65,
   "metadata": {},
   "outputs": [
    {
     "name": "stdout",
     "output_type": "stream",
     "text": [
      "39.20702541106129\n",
      "Wall time: 0 ns\n"
     ]
    }
   ],
   "source": [
    "%%time\n",
    "avg_age = avg_age_fx(age_lst)\n",
    "print(avg_age)"
   ]
  },
  {
   "cell_type": "code",
   "execution_count": 89,
   "metadata": {},
   "outputs": [
    {
     "name": "stdout",
     "output_type": "stream",
     "text": [
      "male non smoker charges : 8087.2 \n",
      "male smoker charges : 33042.01 \n",
      "female non smoker charges : 8762.3 \n",
      "female smoker charges : 30679.0 \n",
      "\n",
      "\n"
     ]
    }
   ],
   "source": [
    "bp_data[:5]# Sex, smoking preferences, charges\n",
    "msc = 0\n",
    "mnsc = 0\n",
    "fsc = 0\n",
    "fnsc = 0\n",
    "mns_count, ms_count, fns_count, fs_count = 0,0,0,0\n",
    "for index, element in enumerate(list(data_dict[\"sex\"])):\n",
    "    if element == \"male\":\n",
    "        if list(data_dict[\"smoker\"])[index] == \"yes\":\n",
    "            msc += list(data_dict[\"charges\"])[index]\n",
    "            ms_count += 1\n",
    "        else:\n",
    "            mnsc += list(data_dict[\"charges\"])[index]\n",
    "            mns_count +=1\n",
    "    else:\n",
    "        if list(data_dict[\"smoker\"])[index] == \"yes\":\n",
    "            fsc += list(data_dict[\"charges\"])[index]\n",
    "            fs_count += 1\n",
    "        else:\n",
    "            fnsc += list(data_dict[\"charges\"])[index]\n",
    "            fns_count += 1\n",
    "            \n",
    "print(\"male non smoker charges : {mns} \\nmale smoker charges : {ms} \\nfemale non smoker charges : {fns} \\n\\\n",
    "female smoker charges : {fs} \\n\\n\".format(mns = round((mnsc/mns_count),2), ms = round((msc/ms_count),2), \n",
    "     fns = round((fnsc/fns_count),2), fs = round((fsc/fs_count),2)))\n",
    "\n",
    "        "
   ]
  },
  {
   "cell_type": "code",
   "execution_count": 3,
   "metadata": {},
   "outputs": [
    {
     "name": "stdout",
     "output_type": "stream",
     "text": [
      "Available Themes: \n",
      "   chesterish\n",
      "   grade3\n",
      "   gruvboxd\n",
      "   gruvboxl\n",
      "   monokai\n",
      "   oceans16\n",
      "   onedork\n",
      "   solarizedd\n",
      "   solarizedl\n"
     ]
    }
   ],
   "source": [
    "!jt -l"
   ]
  },
  {
   "cell_type": "code",
   "execution_count": 5,
   "metadata": {},
   "outputs": [],
   "source": [
    "!jt -t onedork -T -N"
   ]
  },
  {
   "cell_type": "code",
   "execution_count": 6,
   "metadata": {},
   "outputs": [],
   "source": [
    "!jt -t gruvboxd"
   ]
  },
  {
   "cell_type": "code",
   "execution_count": null,
   "metadata": {},
   "outputs": [],
   "source": []
  }
 ],
 "metadata": {
  "kernelspec": {
   "display_name": "Python 3",
   "language": "python",
   "name": "python3"
  },
  "language_info": {
   "codemirror_mode": {
    "name": "ipython",
    "version": 3
   },
   "file_extension": ".py",
   "mimetype": "text/x-python",
   "name": "python",
   "nbconvert_exporter": "python",
   "pygments_lexer": "ipython3",
   "version": "3.8.5"
  },
  "latex_envs": {
   "LaTeX_envs_menu_present": true,
   "autoclose": false,
   "autocomplete": true,
   "bibliofile": "biblio.bib",
   "cite_by": "apalike",
   "current_citInitial": 1,
   "eqLabelWithNumbers": true,
   "eqNumInitial": 1,
   "hotkeys": {
    "equation": "Ctrl-E",
    "itemize": "Ctrl-I"
   },
   "labels_anchors": false,
   "latex_user_defs": false,
   "report_style_numbering": false,
   "user_envs_cfg": false
  },
  "toc": {
   "base_numbering": 1,
   "nav_menu": {},
   "number_sections": true,
   "sideBar": true,
   "skip_h1_title": false,
   "title_cell": "Table of Contents",
   "title_sidebar": "Contents",
   "toc_cell": false,
   "toc_position": {},
   "toc_section_display": true,
   "toc_window_display": false
  },
  "varInspector": {
   "cols": {
    "lenName": 16,
    "lenType": 16,
    "lenVar": 40
   },
   "kernels_config": {
    "python": {
     "delete_cmd_postfix": "",
     "delete_cmd_prefix": "del ",
     "library": "var_list.py",
     "varRefreshCmd": "print(var_dic_list())"
    },
    "r": {
     "delete_cmd_postfix": ") ",
     "delete_cmd_prefix": "rm(",
     "library": "var_list.r",
     "varRefreshCmd": "cat(var_dic_list()) "
    }
   },
   "types_to_exclude": [
    "module",
    "function",
    "builtin_function_or_method",
    "instance",
    "_Feature"
   ],
   "window_display": false
  }
 },
 "nbformat": 4,
 "nbformat_minor": 4
}
