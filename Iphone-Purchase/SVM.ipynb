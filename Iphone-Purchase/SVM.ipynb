{
 "cells": [
  {
   "cell_type": "code",
   "execution_count": 94,
   "metadata": {},
   "outputs": [
    {
     "data": {
      "text/plain": [
       "array([['Male', 19, 19000],\n",
       "       ['Male', 35, 20000],\n",
       "       ['Female', 26, 43000],\n",
       "       ...,\n",
       "       ['Female', 50, 20000],\n",
       "       ['Male', 36, 33000],\n",
       "       ['Female', 49, 36000]], dtype=object)"
      ]
     },
     "metadata": {},
     "output_type": "display_data"
    }
   ],
   "source": [
    "import pandas as pd\n",
    "import numpy as np\n",
    "from sklearn.model_selection import train_test_split\n",
    "from sklearn.preprocessing import StandardScaler\n",
    "from sklearn.svm import SVC\n",
    "from sklearn import metrics\n",
    "\n",
    "dataset = pd.read_csv(\"iphone.csv\")\n",
    "X = dataset.iloc[:,:-1].values\n",
    "y = dataset.iloc[:, 3].values\n",
    "display(X)"
   ]
  },
  {
   "cell_type": "code",
   "execution_count": 95,
   "metadata": {},
   "outputs": [
    {
     "data": {
      "text/plain": [
       "array([[1, 19, 19000],\n",
       "       [1, 35, 20000],\n",
       "       [0, 26, 43000],\n",
       "       ...,\n",
       "       [0, 50, 20000],\n",
       "       [1, 36, 33000],\n",
       "       [0, 49, 36000]], dtype=object)"
      ]
     },
     "metadata": {},
     "output_type": "display_data"
    }
   ],
   "source": [
    "X[:,0] = np.where(X[:,0] == 'Male', 1, 0)\n",
    "display(X)"
   ]
  },
  {
   "cell_type": "code",
   "execution_count": 96,
   "metadata": {},
   "outputs": [],
   "source": [
    "X_train, X_test, y_train, y_test = train_test_split(X, y, test_size = 0.25, random_state = 0)"
   ]
  },
  {
   "cell_type": "code",
   "execution_count": 97,
   "metadata": {},
   "outputs": [],
   "source": [
    "scaler = StandardScaler()\n",
    "X_train = scaler.fit_transform(X_train)\n",
    "X_test = scaler.fit_transform(X_test)"
   ]
  },
  {
   "cell_type": "code",
   "execution_count": 98,
   "metadata": {},
   "outputs": [],
   "source": [
    "sv_linear_class = SVC(kernel = 'linear')\n",
    "sv_linear_class.fit(X_train, y_train)\n",
    "y_pred = sv_linear_class.predict(X_test)"
   ]
  },
  {
   "cell_type": "code",
   "execution_count": 99,
   "metadata": {},
   "outputs": [
    {
     "name": "stdout",
     "output_type": "stream",
     "text": [
      "[[65  3]\n",
      " [ 8 24]]\n",
      "Accuracy score: 0.89\n",
      "Precision score: 0.8888888888888888\n",
      "Recall score: 0.75\n"
     ]
    }
   ],
   "source": [
    "linear_cm = metrics.confusion_matrix(y_test, y_pred) \n",
    "print(cm)\n",
    "linear_accuracy = metrics.accuracy_score(y_test, y_pred) \n",
    "print(\"Accuracy score:\",linear_accuracy)\n",
    "linear_precision = metrics.precision_score(y_test, y_pred) \n",
    "print(\"Precision score:\",linear_precision)\n",
    "linear_recall = metrics.recall_score(y_test, y_pred) \n",
    "print(\"Recall score:\",linear_recall)"
   ]
  },
  {
   "cell_type": "code",
   "execution_count": 100,
   "metadata": {},
   "outputs": [],
   "source": [
    "sv_poly_class = SVC(kernel = 'poly', degree = 2)\n",
    "sv_poly_class.fit(X_train, y_train)\n",
    "y_pred = sv_poly_class.predict(X_test)"
   ]
  },
  {
   "cell_type": "code",
   "execution_count": 101,
   "metadata": {},
   "outputs": [
    {
     "name": "stdout",
     "output_type": "stream",
     "text": [
      "[[65  3]\n",
      " [ 8 24]]\n",
      "Accuracy score: 0.76\n",
      "Precision score: 0.6818181818181818\n",
      "Recall score: 0.46875\n"
     ]
    }
   ],
   "source": [
    "poly_cm = metrics.confusion_matrix(y_test, y_pred) \n",
    "print(cm)\n",
    "poly_accuracy = metrics.accuracy_score(y_test, y_pred) \n",
    "print(\"Accuracy score:\",poly_accuracy)\n",
    "poly_precision = metrics.precision_score(y_test, y_pred) \n",
    "print(\"Precision score:\",poly_precision)\n",
    "poly_recall = metrics.recall_score(y_test, y_pred) \n",
    "print(\"Recall score:\",poly_recall)"
   ]
  },
  {
   "cell_type": "code",
   "execution_count": 102,
   "metadata": {},
   "outputs": [],
   "source": [
    "sv_rbf_class = SVC(gamma = 1)\n",
    "sv_rbf_class.fit(X_train, y_train)\n",
    "y_pred = sv_rbf_class.predict(X_test)"
   ]
  },
  {
   "cell_type": "code",
   "execution_count": 103,
   "metadata": {},
   "outputs": [
    {
     "name": "stdout",
     "output_type": "stream",
     "text": [
      "[[65  3]\n",
      " [ 8 24]]\n",
      "Accuracy score: 0.93\n",
      "Precision score: 0.8787878787878788\n",
      "Recall score: 0.90625\n"
     ]
    }
   ],
   "source": [
    "\n",
    "\n",
    "rbf_cm = metrics.confusion_matrix(y_test, y_pred) \n",
    "print(cm)\n",
    "rbf_accuracy = metrics.accuracy_score(y_test, y_pred) \n",
    "print(\"Accuracy score:\",rbf_accuracy)\n",
    "rbf_precision = metrics.precision_score(y_test, y_pred) \n",
    "print(\"Precision score:\",rbf_precision)\n",
    "rbf_recall = metrics.recall_score(y_test, y_pred) \n",
    "print(\"Recall score:\",rbf_recall)"
   ]
  },
  {
   "cell_type": "code",
   "execution_count": null,
   "metadata": {},
   "outputs": [],
   "source": []
  }
 ],
 "metadata": {
  "kernelspec": {
   "display_name": "Python 3",
   "language": "python",
   "name": "python3"
  },
  "language_info": {
   "codemirror_mode": {
    "name": "ipython",
    "version": 3
   },
   "file_extension": ".py",
   "mimetype": "text/x-python",
   "name": "python",
   "nbconvert_exporter": "python",
   "pygments_lexer": "ipython3",
   "version": "3.8.5"
  },
  "latex_envs": {
   "LaTeX_envs_menu_present": true,
   "autoclose": false,
   "autocomplete": true,
   "bibliofile": "biblio.bib",
   "cite_by": "apalike",
   "current_citInitial": 1,
   "eqLabelWithNumbers": true,
   "eqNumInitial": 1,
   "hotkeys": {
    "equation": "Ctrl-E",
    "itemize": "Ctrl-I"
   },
   "labels_anchors": false,
   "latex_user_defs": false,
   "report_style_numbering": false,
   "user_envs_cfg": false
  },
  "toc": {
   "base_numbering": 1,
   "nav_menu": {},
   "number_sections": true,
   "sideBar": true,
   "skip_h1_title": false,
   "title_cell": "Table of Contents",
   "title_sidebar": "Contents",
   "toc_cell": false,
   "toc_position": {},
   "toc_section_display": true,
   "toc_window_display": false
  }
 },
 "nbformat": 4,
 "nbformat_minor": 4
}
